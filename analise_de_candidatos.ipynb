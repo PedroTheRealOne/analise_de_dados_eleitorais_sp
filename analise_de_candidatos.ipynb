{
 "cells": [
  {
   "cell_type": "markdown",
   "metadata": {},
   "source": [
    "# Trabalho de Estrutura de Dados - Análise de dados utilizando Pandas e Matplotlib"
   ]
  },
  {
   "cell_type": "markdown",
   "metadata": {},
   "source": [
    "## Índices de Votos Válidos e Inválidos nas eleições municipais de São José dos Campos\n",
    "Com base nos dados públicos distribuidos pelo govero, será feita uma análise das eleições municipais dos últimos 16 anos de São José dos Campos comparando os votos válidos e inválidos, ou seja, em branco, para ver o crescimento do engajamento político na cidade.\n",
    "\n",
    "Por conta de questões sociais que vem ocorrendo ultimamente, a junventude vem sido criada com um alto engajamento político que tende a crescer, portando é questionável se cada vez menos tem-se votado em branco nas eleições.\n",
    "\n",
    "Foram pegos os dados de total de votos válidos e em branco em cada ano eleitoral desde 2000 até 2016 e separados em dois gráficos, depois comparados em um gráfico final.\n"
   ]
  },
  {
   "cell_type": "code",
   "execution_count": 54,
   "metadata": {},
   "outputs": [],
   "source": [
    "import pandas as pd\n",
    "import seaborn as sb\n",
    "import matplotlib.pyplot as plt\n",
    "low_memory=False\n",
    "%matplotlib inline\n",
    "DADOS_INV = pd.read_csv('d_inv.csv', delimiter=';',header=0,encoding='utf-8')\n",
    "DADOS_VAL = pd.read_csv('d_val.csv', delimiter=';',header=0,encoding='utf-8')"
   ]
  },
  {
   "cell_type": "markdown",
   "metadata": {},
   "source": [
    "### Data Base - DADOS GOV\n",
    "\n",
    "A data base deste trabalho foi obtida diretamente do site do portal brasileiro de dados abertos (http://dados.gov.br), sendo usado especificamente a base de dados a que se diz respeito ao resultados das eleições separados por ano (https://dados.gov.br/dataset/resultado-das-eleicoes). Foram usados os arquivos de nome \"Detalhe da Apuração por município e zona (ano)\", depois foi filtrado apenas o arquivo do estado de São Paulo e por fim apenas da cidade de São José dos Campos.\n",
    "\n",
    "#### Eleições São José dos Campos\n",
    "\n",
    "Foi o objetivo encontrar a quantidade de votos da cidade, tanto válidos como inválidos, portanto foi somado todos os votos de todas as seções da cidade de acordo com o ano eleitoral, e por fim criado uma ordenação para a extração dos dados de maneira oganizada."
   ]
  },
  {
   "cell_type": "markdown",
   "metadata": {},
   "source": [
    "### Votos Válidos nas Eleições da Cidade de São José dos Campos\n",
    "\n",
    "Primeiramente foram extraídos os dados em uma tabela ordenada do mais recente ao mais antigo. Depois foi criado um gráfico com essas informações.\n",
    "\n",
    "É possível observar que houve um crescimento significativo no número de votos, conforme houve também a expansão da cidade. Esse crescimento teve uma leve decaída em 2004, porém voltou a subir rapidamente no ano de 2012 até 2016.\n"
   ]
  },
  {
   "cell_type": "code",
   "execution_count": 55,
   "metadata": {},
   "outputs": [
    {
     "data": {
      "text/html": [
       "<div>\n",
       "<style scoped>\n",
       "    .dataframe tbody tr th:only-of-type {\n",
       "        vertical-align: middle;\n",
       "    }\n",
       "\n",
       "    .dataframe tbody tr th {\n",
       "        vertical-align: top;\n",
       "    }\n",
       "\n",
       "    .dataframe thead th {\n",
       "        text-align: right;\n",
       "    }\n",
       "</style>\n",
       "<table border=\"1\" class=\"dataframe\">\n",
       "  <thead>\n",
       "    <tr style=\"text-align: right;\">\n",
       "      <th></th>\n",
       "      <th>votos_val</th>\n",
       "      <th>ano_eleic</th>\n",
       "    </tr>\n",
       "  </thead>\n",
       "  <tbody>\n",
       "    <tr>\n",
       "      <th>4</th>\n",
       "      <td>765678</td>\n",
       "      <td>2016</td>\n",
       "    </tr>\n",
       "    <tr>\n",
       "      <th>3</th>\n",
       "      <td>675524</td>\n",
       "      <td>2012</td>\n",
       "    </tr>\n",
       "    <tr>\n",
       "      <th>2</th>\n",
       "      <td>621286</td>\n",
       "      <td>2008</td>\n",
       "    </tr>\n",
       "    <tr>\n",
       "      <th>1</th>\n",
       "      <td>591827</td>\n",
       "      <td>2004</td>\n",
       "    </tr>\n",
       "    <tr>\n",
       "      <th>0</th>\n",
       "      <td>488722</td>\n",
       "      <td>2000</td>\n",
       "    </tr>\n",
       "  </tbody>\n",
       "</table>\n",
       "</div>"
      ],
      "text/plain": [
       "   votos_val  ano_eleic\n",
       "4     765678       2016\n",
       "3     675524       2012\n",
       "2     621286       2008\n",
       "1     591827       2004\n",
       "0     488722       2000"
      ]
     },
     "execution_count": 55,
     "metadata": {},
     "output_type": "execute_result"
    }
   ],
   "source": [
    "#Aqui demonstramos os dados lidos pela biblioteca Pandas, substituimos as células em branco(NaN) por 0.\n",
    "DADOS_VAL = DADOS_VAL.fillna('0')\n",
    "#Realizamos uma ordenação de acordo com a coluna \"9999\" que representa o último indice mensurado, do maior para o menor.\n",
    "DADOS_VAL.sort_values(by=['votos_val'],ascending=False).head(7)"
   ]
  },
  {
   "cell_type": "code",
   "execution_count": 58,
   "metadata": {},
   "outputs": [
    {
     "data": {
      "image/png": "[encoded data removed]",
      "text/plain": [
       "<Figure size 432x288 with 1 Axes>"
      ]
     },
     "metadata": {
      "needs_background": "light"
     },
     "output_type": "display_data"
    }
   ],
   "source": [
    "dadosVotosVal = DADOS_VAL['votos_val']\n",
    "dadosAnoVal = DADOS_VAL['ano_eleic']\n",
    "plt.plot((dadosAnoVal),(dadosVotosVal))\n",
    "plt.ylabel('Número de Votos Válidos')\n",
    "plt.xlabel('Anos')\n",
    "plt.show()"
   ]
  },
  {
   "cell_type": "markdown",
   "metadata": {},
   "source": [
    "### Votos Inválidos nas Eleições da Cidade de São José dos Campos\n",
    "\n",
    "Primeiramente foram extraídos os dados em uma tabela ordenada do mais recente ao mais antigo. Depois foi criado um gráfico com essas informações.\n",
    "\n",
    "É possível observar que houve um declíneo no número de votos em branco, porém ele subiu imensamente no ano de 2004 e continuou se expandindo até 2016, mostrando que cada vez mais existe a vontade de votar-se em branco."
   ]
  },
  {
   "cell_type": "code",
   "execution_count": 59,
   "metadata": {},
   "outputs": [
    {
     "data": {
      "text/html": [
       "<div>\n",
       "<style scoped>\n",
       "    .dataframe tbody tr th:only-of-type {\n",
       "        vertical-align: middle;\n",
       "    }\n",
       "\n",
       "    .dataframe tbody tr th {\n",
       "        vertical-align: top;\n",
       "    }\n",
       "\n",
       "    .dataframe thead th {\n",
       "        text-align: right;\n",
       "    }\n",
       "</style>\n",
       "<table border=\"1\" class=\"dataframe\">\n",
       "  <thead>\n",
       "    <tr style=\"text-align: right;\">\n",
       "      <th></th>\n",
       "      <th>votos_inv</th>\n",
       "      <th>ano_eleic</th>\n",
       "    </tr>\n",
       "  </thead>\n",
       "  <tbody>\n",
       "    <tr>\n",
       "      <th>4</th>\n",
       "      <td>34393</td>\n",
       "      <td>2016</td>\n",
       "    </tr>\n",
       "    <tr>\n",
       "      <th>3</th>\n",
       "      <td>27880</td>\n",
       "      <td>2012</td>\n",
       "    </tr>\n",
       "    <tr>\n",
       "      <th>2</th>\n",
       "      <td>23031</td>\n",
       "      <td>2008</td>\n",
       "    </tr>\n",
       "    <tr>\n",
       "      <th>0</th>\n",
       "      <td>13475</td>\n",
       "      <td>2000</td>\n",
       "    </tr>\n",
       "    <tr>\n",
       "      <th>1</th>\n",
       "      <td>12491</td>\n",
       "      <td>2004</td>\n",
       "    </tr>\n",
       "  </tbody>\n",
       "</table>\n",
       "</div>"
      ],
      "text/plain": [
       "   votos_inv  ano_eleic\n",
       "4      34393       2016\n",
       "3      27880       2012\n",
       "2      23031       2008\n",
       "0      13475       2000\n",
       "1      12491       2004"
      ]
     },
     "execution_count": 59,
     "metadata": {},
     "output_type": "execute_result"
    }
   ],
   "source": [
    "#Aqui demonstramos os dados lidos pela biblioteca Pandas, substituimos as células em branco(NaN) por 0.\n",
    "DADOS_INV = DADOS_INV.fillna('0')\n",
    "#Realizamos uma ordenação de acordo com a coluna \"9999\" que representa o último indice mensurado, do maior para o menor.\n",
    "DADOS_INV.sort_values(by=['votos_inv'],ascending=False).head(7)"
   ]
  },
  {
   "cell_type": "code",
   "execution_count": 60,
   "metadata": {
    "scrolled": false
   },
   "outputs": [
    {
     "data": {
      "image/png": "[encoded data removed]",
      "text/plain": [
       "<Figure size 432x288 with 1 Axes>"
      ]
     },
     "metadata": {
      "needs_background": "light"
     },
     "output_type": "display_data"
    }
   ],
   "source": [
    "dadosVotosInv = DADOS_INV['votos_inv']\n",
    "dadosAnoInv = DADOS_INV['ano_eleic']\n",
    "plt.plot((dadosAnoInv),(dadosVotosInv))\n",
    "plt.ylabel('Número de Votos Válidos')\n",
    "plt.xlabel('Anos')\n",
    "plt.show()"
   ]
  },
  {
   "cell_type": "markdown",
   "metadata": {},
   "source": [
    "### Comparação entre os Votos Válidos e Inválidos\n",
    "\n",
    "No gráfico abaixo existem duas linhas, uma representando os votos válidos em azul, e outra linha representando os votos inválidos, em laranja.\n",
    "\n",
    "É possível observar que mesmo com o crescimento grande da linha laranja de votos inválidos, ela ainda se encontra muito abaixo da linha azul de votos válidos. De acordo com essa análise é possível estimar que mesmo que continue existindo um crescimento de votos em branco nas eleições de São José dos Campos pode ser que demore até essa ação impactar nos votos válidos. Porém, é preocupante que o engajamento político possa estar perdendo a sua força nos últimos anos na cidade."
   ]
  },
  {
   "cell_type": "code",
   "execution_count": 61,
   "metadata": {
    "scrolled": true
   },
   "outputs": [
    {
     "data": {
      "image/png": "[encoded data removed]",
      "text/plain": [
       "<Figure size 432x288 with 1 Axes>"
      ]
     },
     "metadata": {
      "needs_background": "light"
     },
     "output_type": "display_data"
    }
   ],
   "source": [
    "dadosVotosVal = DADOS_VAL['votos_val']\n",
    "dadosVotosInv = DADOS_INV['votos_inv']\n",
    "anos = [\"2000\", \"2004\", \"2008\", \"2012\", \"2016\"]\n",
    "fig, ax = plt.subplots()\n",
    "ax.plot(anos, dadosVotosVal, label=\"Votos Válidos\")\n",
    "ax.plot(anos, dadosVotosInv, label=\"Votos Inválidos\")\n",
    "ax.legend()\n",
    "plt.show()"
   ]
  }
 ],
 "metadata": {
  "kernelspec": {
   "display_name": "Python 3",
   "language": "python",
   "name": "python3"
  },
  "language_info": {
   "codemirror_mode": {
    "name": "ipython",
    "version": 3
   },
   "file_extension": ".py",
   "mimetype": "text/x-python",
   "name": "python",
   "nbconvert_exporter": "python",
   "pygments_lexer": "ipython3",
   "version": "3.8.6"
  }
 },
 "nbformat": 4,
 "nbformat_minor": 2
}
